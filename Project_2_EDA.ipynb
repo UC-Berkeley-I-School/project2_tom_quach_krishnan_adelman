{
 "cells": [
  {
   "cell_type": "markdown",
   "metadata": {},
   "source": [
    "#### 1. DATASCI 200 - PROJECT 2\n",
    "- Names:\n",
    "    - Gabriella Tom\n",
    "    - Ambro Quach\n",
    "    - Chad Adelman\n",
    "    - Uma Krishnan\n",
    "- Github: https://github.com/UC-Berkeley-I-School/project2_tom_quach_krishnan_adelman\n"
   ]
  },
  {
   "cell_type": "markdown",
   "metadata": {},
   "source": [
    "1.1 Overview"
   ]
  },
  {
   "cell_type": "markdown",
   "metadata": {},
   "source": [
    "1.2 Research Question"
   ]
  },
  {
   "cell_type": "markdown",
   "metadata": {},
   "source": [
    "1.3 Background and Prior Work"
   ]
  },
  {
   "cell_type": "markdown",
   "metadata": {},
   "source": [
    "1.4 Dataset(s)\n",
    "- 1.) Datahub FiveThirtyEight\n",
    "    - Link to dataset: https://datahub.io/core/five-thirty-eight-datasets/datasets/congress-age\n",
    "    - Size of dataset: 18,000+ observations\n",
    "    - Description:\n",
    "    - Used Fields:\n",
    "- 2.) Github U.S. Congress Legislators\n",
    "    - Link to dataset: https://github.com/unitedstates/congress-legislators?tab=readme-ov-file\n",
    "    - Size of dataset:\n",
    "    - Description:\n",
    "    - Used Fields:\n",
    "- 3.) The United States IO\n",
    "    - Link to dataset: https://theunitedstates.io/\n",
    "    - Size of dataset:\n",
    "    - Description:\n",
    "    - Used Fields:"
   ]
  },
  {
   "cell_type": "markdown",
   "metadata": {},
   "source": [
    "1.5 Setup\n"
   ]
  },
  {
   "cell_type": "code",
   "execution_count": 1,
   "metadata": {},
   "outputs": [],
   "source": [
    "import numpy as np\n",
    "import pandas as pd\n",
    "import matplotlib.pyplot as plt\n",
    "import seaborn as sns\n",
    "import datetime\n",
    "import ast"
   ]
  },
  {
   "cell_type": "markdown",
   "metadata": {},
   "source": [
    "1.6 Data Cleaning"
   ]
  },
  {
   "cell_type": "markdown",
   "metadata": {},
   "source": [
    "1.7 Data Analysis\n",
    "- 1.7.1 Descriptive Analysis\n",
    "- 1.7.2 Explanatory Analysis"
   ]
  },
  {
   "cell_type": "markdown",
   "metadata": {},
   "source": [
    "1.8 Data Visualization"
   ]
  },
  {
   "cell_type": "markdown",
   "metadata": {},
   "source": [
    "1.9 Results and Findings"
   ]
  },
  {
   "cell_type": "markdown",
   "metadata": {},
   "source": [
    "1.10 Ethics and Privacy\n",
    "- Data Acquisition:\n",
    "- Data Privacy Concern:\n",
    "- Data Bias:"
   ]
  },
  {
   "cell_type": "markdown",
   "metadata": {},
   "source": [
    "1.11 Conclusion and Discussion\n",
    "- Conclusion:\n",
    "- Limitations:\n",
    "- Impact:\n",
    "- Future Discussion:"
   ]
  },
  {
   "cell_type": "markdown",
   "metadata": {},
   "source": [
    "1.12 Sources"
   ]
  }
 ],
 "metadata": {
  "kernelspec": {
   "display_name": "Python 3",
   "language": "python",
   "name": "python3"
  },
  "language_info": {
   "codemirror_mode": {
    "name": "ipython",
    "version": 3
   },
   "file_extension": ".py",
   "mimetype": "text/x-python",
   "name": "python",
   "nbconvert_exporter": "python",
   "pygments_lexer": "ipython3",
   "version": "3.11.7"
  }
 },
 "nbformat": 4,
 "nbformat_minor": 2
}
