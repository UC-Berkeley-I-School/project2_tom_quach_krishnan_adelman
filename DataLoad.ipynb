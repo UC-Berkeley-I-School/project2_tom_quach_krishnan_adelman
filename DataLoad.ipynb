{
 "cells": [
  {
   "cell_type": "code",
   "execution_count": 55,
   "metadata": {},
   "outputs": [
    {
     "name": "stdout",
     "output_type": "stream",
     "text": [
      "(2721, 16)\n",
      "(14691, 16)\n"
     ]
    },
    {
     "data": {
      "text/plain": [
       "(17412, 16)"
      ]
     },
     "execution_count": 55,
     "metadata": {},
     "output_type": "execute_result"
    }
   ],
   "source": [
    "import pandas as pd\n",
    "import numpy as np\n",
    "from datetime import datetime\n",
    "import matplotlib.pyplot as plt\n",
    "import json\n",
    "\n",
    "# These commands below set some options for pandas and to have matplotlib show the charts in the notebook\n",
    "pd.set_option('display.max_rows', 1000)\n",
    "pd.options.display.float_format = '{:,.2f}'.format\n",
    "%matplotlib inline\n",
    "\n",
    "# Load the data\n",
    "# We have this defaulted to the folder OUTSIDE of your repo - please change it as needed\n",
    "population = pd.read_csv('Population by Age and Sex - US, States, Counties.csv')\n",
    "\n",
    "def load_json(file_name: str):\n",
    "    with open(file_name, 'r') as file:\n",
    "        file_data = json.load(file)\n",
    "    rows = []\n",
    "    for person in file_data:\n",
    "        base_info = {\n",
    "            \"bioguide_id\": person[\"id\"].get(\"bioguide\"),\n",
    "            \"govtrack_id\": person[\"id\"].get(\"govtrack\"),\n",
    "            \"icpsr_id\": person[\"id\"].get(\"icpsr\"),\n",
    "            \"wikipedia\": person[\"id\"].get(\"wikipedia\"),\n",
    "            \"wikidata\": person[\"id\"].get(\"wikidata\"),\n",
    "            \"first_name\": person[\"name\"][\"first\"],\n",
    "            \"last_name\": person[\"name\"][\"last\"],\n",
    "            \"gender\": person[\"bio\"].get(\"gender\"),\n",
    "            \"birthday\": person[\"bio\"].get(\"birthday\"),\n",
    "        }\n",
    "        for term in person[\"terms\"]:\n",
    "            row = base_info.copy()\n",
    "            row.update({\n",
    "                \"type\": term[\"type\"],\n",
    "                \"start\": term[\"start\"],\n",
    "                \"end\": term[\"end\"],\n",
    "                \"state\": term[\"state\"],\n",
    "                \"district\": term.get(\"district\"),\n",
    "                \"party\": term.get(\"party\"),\n",
    "                \"class\": term.get(\"class\"),\n",
    "            })\n",
    "            rows.append(row)\n",
    "\n",
    "    # Convert to DataFrame\n",
    "    legislators = pd.DataFrame(rows)\n",
    "    return legislators\n",
    "\n",
    "# load both historical & current into dataframes\n",
    "incumbent = load_json('legislators-current.json')\n",
    "non_incumbent = load_json('legislators-historical.json')\n",
    "\n",
    "# filter historical from people born after 1900\n",
    "non_incumbent['birthday'] = pd.to_datetime(non_incumbent['birthday'])\n",
    "non_incumbent = non_incumbent[non_incumbent['birthday'].dt.year >= 1900] \n",
    "\n",
    "# check shape before\n",
    "print(incumbent.shape)\n",
    "print(non_incumbent.shape)\n",
    "\n",
    "# merged dataframe: all legislators incumbent & non_incumbent \n",
    "merged = pd.concat([incumbent, non_incumbent], ignore_index=True)\n",
    "\n",
    "#check shape after\n",
    "merged.shape\n",
    "\n",
    "\n",
    "# Note - for now, it is okay to ignore the warning about mixed types."
   ]
  },
  {
   "cell_type": "code",
   "execution_count": null,
   "metadata": {},
   "outputs": [],
   "source": [
    "\n"
   ]
  },
  {
   "cell_type": "code",
   "execution_count": 56,
   "metadata": {},
   "outputs": [
    {
     "data": {
      "text/html": [
       "<div>\n",
       "<style scoped>\n",
       "    .dataframe tbody tr th:only-of-type {\n",
       "        vertical-align: middle;\n",
       "    }\n",
       "\n",
       "    .dataframe tbody tr th {\n",
       "        vertical-align: top;\n",
       "    }\n",
       "\n",
       "    .dataframe thead th {\n",
       "        text-align: right;\n",
       "    }\n",
       "</style>\n",
       "<table border=\"1\" class=\"dataframe\">\n",
       "  <thead>\n",
       "    <tr style=\"text-align: right;\">\n",
       "      <th></th>\n",
       "      <th>Description</th>\n",
       "      <th>Year</th>\n",
       "      <th>Total Population</th>\n",
       "      <th>Population 0-4</th>\n",
       "      <th>Population 5-17</th>\n",
       "      <th>Population 18-24</th>\n",
       "      <th>Population 25-44</th>\n",
       "      <th>Population 45-64</th>\n",
       "      <th>Population 65+</th>\n",
       "      <th>Population Under 18</th>\n",
       "      <th>...</th>\n",
       "      <th>% Population 5-17</th>\n",
       "      <th>% Population 18-24</th>\n",
       "      <th>% Population 25-44</th>\n",
       "      <th>% Population 45-64</th>\n",
       "      <th>% Population 65+</th>\n",
       "      <th>% Population Under 18</th>\n",
       "      <th>% Population 18-54</th>\n",
       "      <th>% Population 55+</th>\n",
       "      <th>% Male Population</th>\n",
       "      <th>% Female Population</th>\n",
       "    </tr>\n",
       "  </thead>\n",
       "  <tbody>\n",
       "    <tr>\n",
       "      <th>0</th>\n",
       "      <td>U.S.</td>\n",
       "      <td>2000</td>\n",
       "      <td>282,162,411.00</td>\n",
       "      <td>19,178,293.00</td>\n",
       "      <td>53,197,896.00</td>\n",
       "      <td>27,315,274.00</td>\n",
       "      <td>84,973,340.00</td>\n",
       "      <td>62,428,040.00</td>\n",
       "      <td>35,069,568.00</td>\n",
       "      <td>72,376,189.00</td>\n",
       "      <td>...</td>\n",
       "      <td>0.19</td>\n",
       "      <td>0.10</td>\n",
       "      <td>0.30</td>\n",
       "      <td>0.22</td>\n",
       "      <td>0.12</td>\n",
       "      <td>0.26</td>\n",
       "      <td>0.53</td>\n",
       "      <td>0.21</td>\n",
       "      <td>0.49</td>\n",
       "      <td>0.51</td>\n",
       "    </tr>\n",
       "  </tbody>\n",
       "</table>\n",
       "<p>1 rows × 26 columns</p>\n",
       "</div>"
      ],
      "text/plain": [
       "  Description  Year  Total Population  Population 0-4  Population 5-17  \\\n",
       "0        U.S.  2000    282,162,411.00   19,178,293.00    53,197,896.00   \n",
       "\n",
       "   Population 18-24  Population 25-44  Population 45-64  Population 65+  \\\n",
       "0     27,315,274.00     84,973,340.00     62,428,040.00   35,069,568.00   \n",
       "\n",
       "   Population Under 18  ...  % Population 5-17  % Population 18-24  \\\n",
       "0        72,376,189.00  ...               0.19                0.10   \n",
       "\n",
       "   % Population 25-44  % Population 45-64  % Population 65+  \\\n",
       "0                0.30                0.22              0.12   \n",
       "\n",
       "   % Population Under 18  % Population 18-54  % Population 55+  \\\n",
       "0                   0.26                0.53              0.21   \n",
       "\n",
       "   % Male Population  % Female Population  \n",
       "0               0.49                 0.51  \n",
       "\n",
       "[1 rows x 26 columns]"
      ]
     },
     "execution_count": 56,
     "metadata": {},
     "output_type": "execute_result"
    }
   ],
   "source": [
    "##Gabby test cell\n",
    "filtered_pop = population[population['Description'] == 'U.S.']\n",
    "\n",
    "# Remove unnecessary columns\n",
    "filtered_pop = filtered_pop.drop(['IBRC_Geo_ID', 'Statefips', 'Countyfips'], axis=1)\n",
    "\n",
    "# Function to get percentages of populations\n",
    "def percent(row, name):\n",
    "    base = row['Total Population']\n",
    "    return row[name]/base\n",
    "\n",
    "for c in filtered_pop.columns:\n",
    "    if 'population' in c.lower():\n",
    "        filtered_pop['% ' + c] = filtered_pop.apply(lambda row: percent(row, c), axis = 1)\n",
    "#filtered_pop['0-4 Percent'] = filtered_pop.apply(lambda row: percent(row, \"Population 0-4\"), axis = 1)\n",
    "filtered_pop.columns\n",
    "filtered_pop.head(1)"
   ]
  },
  {
   "cell_type": "code",
   "execution_count": null,
   "metadata": {},
   "outputs": [
    {
     "name": "stdout",
     "output_type": "stream",
     "text": [
      "(2721, 16)\n",
      "(14691, 16)\n"
     ]
    },
    {
     "data": {
      "text/plain": [
       "(17412, 16)"
      ]
     },
     "execution_count": 54,
     "metadata": {},
     "output_type": "execute_result"
    }
   ],
   "source": [
    "##Ambro Test cell\n"
   ]
  },
  {
   "cell_type": "code",
   "execution_count": 22,
   "metadata": {},
   "outputs": [],
   "source": [
    "##Uma test cell"
   ]
  },
  {
   "cell_type": "code",
   "execution_count": null,
   "metadata": {},
   "outputs": [],
   "source": [
    "##Chad test cell"
   ]
  }
 ],
 "metadata": {
  "kernelspec": {
   "display_name": "base",
   "language": "python",
   "name": "python3"
  },
  "language_info": {
   "codemirror_mode": {
    "name": "ipython",
    "version": 3
   },
   "file_extension": ".py",
   "mimetype": "text/x-python",
   "name": "python",
   "nbconvert_exporter": "python",
   "pygments_lexer": "ipython3",
   "version": "3.11.4"
  }
 },
 "nbformat": 4,
 "nbformat_minor": 2
}
