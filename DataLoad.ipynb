{
 "cells": [
  {
   "cell_type": "code",
   "execution_count": 54,
   "metadata": {},
   "outputs": [],
   "source": [
    "import pandas as pd\n",
    "import numpy as np\n",
    "from datetime import datetime\n",
    "import matplotlib.pyplot as plt\n",
    "import json\n",
    "\n",
    "# These commands below set some options for pandas and to have matplotlib show the charts in the notebook\n",
    "pd.set_option('display.max_rows', 1000)\n",
    "pd.options.display.float_format = '{:,.2f}'.format\n",
    "%matplotlib inline\n",
    "\n",
    "# Load the data\n",
    "# We have this defaulted to the folder OUTSIDE of your repo - please change it as needed\n",
    "congress = pd.read_csv('congress-terms.csv')\n",
    "population = pd.read_csv('Population by Age and Sex - US, States, Counties.csv')\n",
    "with open('legislators-historical.json', 'r') as file:\n",
    "    file_data = json.load(file)\n",
    "rows = []\n",
    "for person in file_data:\n",
    "    base_info = {\n",
    "        \"bioguide_id\": person[\"id\"].get(\"bioguide\"),\n",
    "        \"govtrack_id\": person[\"id\"].get(\"govtrack\"),\n",
    "        \"icpsr_id\": person[\"id\"].get(\"icpsr\"),\n",
    "        \"wikipedia\": person[\"id\"].get(\"wikipedia\"),\n",
    "        \"wikidata\": person[\"id\"].get(\"wikidata\"),\n",
    "        \"first_name\": person[\"name\"][\"first\"],\n",
    "        \"last_name\": person[\"name\"][\"last\"],\n",
    "        \"gender\": person[\"bio\"].get(\"gender\"),\n",
    "        \"birthday\": person[\"bio\"].get(\"birthday\"),\n",
    "    }\n",
    "    for term in person[\"terms\"]:\n",
    "        row = base_info.copy()\n",
    "        row.update({\n",
    "            \"type\": term[\"type\"],\n",
    "            \"start\": term[\"start\"],\n",
    "            \"end\": term[\"end\"],\n",
    "            \"state\": term[\"state\"],\n",
    "            \"district\": term.get(\"district\"),\n",
    "            \"party\": term.get(\"party\"),\n",
    "            \"class\": term.get(\"class\"),\n",
    "        })\n",
    "        rows.append(row)\n",
    "\n",
    "# Convert to DataFrame\n",
    "legislators = pd.DataFrame(rows)\n",
    "\n",
    "# Note - for now, it is okay to ignore the warning about mixed types."
   ]
  },
  {
   "cell_type": "code",
   "execution_count": null,
   "metadata": {},
   "outputs": [
    {
     "name": "stdout",
     "output_type": "stream",
     "text": [
      "      bioguide_id  govtrack_id  icpsr_id                           wikipedia  \\\n",
      "36776     M001141       300074 49,904.00                         Zell Miller   \n",
      "36778     A000121       300004 29,148.00  George Allen (American politician)   \n",
      "36787     A000217       400551 15,125.00                          Dick Armey   \n",
      "36791     B000081       400525 29,528.00                       John Baldacci   \n",
      "36796     B000134       400526 29,363.00                        James Barcia   \n",
      "\n",
      "       wikidata first_name last_name gender    birthday type      start  \\\n",
      "36776   Q187516       Zell    Miller      M  1932-02-24  sen 2000-07-24   \n",
      "36778   Q527553     George     Allen      M  1952-03-08  sen 2001-01-03   \n",
      "36787   Q781336    Richard     Armey      M  1940-07-07  rep 2001-01-03   \n",
      "36791   Q502949       John  Baldacci      M  1955-01-30  rep 2001-01-03   \n",
      "36796  Q1679884      James    Barcia      M  1952-02-25  rep 2001-01-03   \n",
      "\n",
      "             end state  district       party  class  \n",
      "36776 2005-01-03    GA       NaN    Democrat   3.00  \n",
      "36778 2007-01-03    VA       NaN  Republican   1.00  \n",
      "36787 2003-01-03    TX     26.00  Republican    NaN  \n",
      "36791 2003-01-03    ME      2.00    Democrat    NaN  \n",
      "36796 2003-01-03    MI      5.00    Democrat    NaN  \n"
     ]
    }
   ],
   "source": [
    "# Display the DataFrame\n",
    "#print(legislators.head(2))\n",
    "\n",
    "# Convert term start & end to datetimes\n",
    "legislators['start'] = pd.to_datetime(legislators['start'])\n",
    "legislators['end'] = pd.to_datetime(legislators['end'])\n",
    "\n",
    "# Filter to starting on or after 2000\n",
    "filtered_df = legislators[legislators['start'].dt.year >= 2000] \n",
    "\n",
    "# Gabby Check\n",
    "\n",
    "print(filtered_df.head())"
   ]
  }
 ],
 "metadata": {
  "kernelspec": {
   "display_name": "base",
   "language": "python",
   "name": "python3"
  },
  "language_info": {
   "codemirror_mode": {
    "name": "ipython",
    "version": 3
   },
   "file_extension": ".py",
   "mimetype": "text/x-python",
   "name": "python",
   "nbconvert_exporter": "python",
   "pygments_lexer": "ipython3",
   "version": "3.11.4"
  }
 },
 "nbformat": 4,
 "nbformat_minor": 2
}
