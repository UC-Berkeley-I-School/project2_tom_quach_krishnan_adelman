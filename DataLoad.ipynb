{
 "cells": [
  {
   "cell_type": "code",
   "execution_count": 6,
   "metadata": {},
   "outputs": [],
   "source": [
    "import pandas as pd\n",
    "import numpy as np\n",
    "from datetime import datetime\n",
    "import matplotlib.pyplot as plt\n",
    "import json\n",
    "\n",
    "# These commands below set some options for pandas and to have matplotlib show the charts in the notebook\n",
    "pd.set_option('display.max_rows', 1000)\n",
    "pd.options.display.float_format = '{:,.2f}'.format\n",
    "%matplotlib inline\n",
    "\n",
    "# Load the data\n",
    "# We have this defaulted to the folder OUTSIDE of your repo - please change it as needed\n",
    "population = pd.read_csv('Population by Age and Sex - US, States, Counties.csv')\n",
    "with open('legislators-historical.json', 'r') as file:\n",
    "    file_data = json.load(file)\n",
    "rows = []\n",
    "for person in file_data:\n",
    "    base_info = {\n",
    "        \"bioguide_id\": person[\"id\"].get(\"bioguide\"),\n",
    "        \"govtrack_id\": person[\"id\"].get(\"govtrack\"),\n",
    "        \"icpsr_id\": person[\"id\"].get(\"icpsr\"),\n",
    "        \"wikipedia\": person[\"id\"].get(\"wikipedia\"),\n",
    "        \"wikidata\": person[\"id\"].get(\"wikidata\"),\n",
    "        \"first_name\": person[\"name\"][\"first\"],\n",
    "        \"last_name\": person[\"name\"][\"last\"],\n",
    "        \"gender\": person[\"bio\"].get(\"gender\"),\n",
    "        \"birthday\": person[\"bio\"].get(\"birthday\"),\n",
    "    }\n",
    "    for term in person[\"terms\"]:\n",
    "        row = base_info.copy()\n",
    "        row.update({\n",
    "            \"type\": term[\"type\"],\n",
    "            \"start\": term[\"start\"],\n",
    "            \"end\": term[\"end\"],\n",
    "            \"state\": term[\"state\"],\n",
    "            \"district\": term.get(\"district\"),\n",
    "            \"party\": term.get(\"party\"),\n",
    "            \"class\": term.get(\"class\"),\n",
    "        })\n",
    "        rows.append(row)\n",
    "\n",
    "# Convert to DataFrame\n",
    "legislators = pd.DataFrame(rows)\n",
    "\n",
    "# Note - for now, it is okay to ignore the warning about mixed types."
   ]
  },
  {
   "cell_type": "code",
   "execution_count": null,
   "metadata": {},
   "outputs": [
    {
     "data": {
      "text/html": [
       "<div>\n",
       "<style scoped>\n",
       "    .dataframe tbody tr th:only-of-type {\n",
       "        vertical-align: middle;\n",
       "    }\n",
       "\n",
       "    .dataframe tbody tr th {\n",
       "        vertical-align: top;\n",
       "    }\n",
       "\n",
       "    .dataframe thead th {\n",
       "        text-align: right;\n",
       "    }\n",
       "</style>\n",
       "<table border=\"1\" class=\"dataframe\">\n",
       "  <thead>\n",
       "    <tr style=\"text-align: right;\">\n",
       "      <th></th>\n",
       "      <th>bioguide_id</th>\n",
       "      <th>govtrack_id</th>\n",
       "      <th>icpsr_id</th>\n",
       "      <th>wikipedia</th>\n",
       "      <th>wikidata</th>\n",
       "      <th>first_name</th>\n",
       "      <th>last_name</th>\n",
       "      <th>gender</th>\n",
       "      <th>birthday</th>\n",
       "      <th>type</th>\n",
       "      <th>start</th>\n",
       "      <th>end</th>\n",
       "      <th>state</th>\n",
       "      <th>district</th>\n",
       "      <th>party</th>\n",
       "      <th>class</th>\n",
       "    </tr>\n",
       "  </thead>\n",
       "  <tbody>\n",
       "  </tbody>\n",
       "</table>\n",
       "</div>"
      ],
      "text/plain": [
       "Empty DataFrame\n",
       "Columns: [bioguide_id, govtrack_id, icpsr_id, wikipedia, wikidata, first_name, last_name, gender, birthday, type, start, end, state, district, party, class]\n",
       "Index: []"
      ]
     },
     "execution_count": 19,
     "metadata": {},
     "output_type": "execute_result"
    }
   ],
   "source": [
    "# Display the DataFrame\n",
    "\n",
    "# Convert term start & end to datetimes\n",
    "legislators['start'] = pd.to_datetime(legislators['start'])\n",
    "legislators['end'] = pd.to_datetime(legislators['end'])\n",
    "\n",
    "# Filter to starting on or after 2000\n",
    "leg_filtered_df = legislators[legislators['start'].dt.year >= 1900] \n",
    "\n",
    "leg_filtered_df[leg_filtered_df[\"last_name\"] == \"\"]\n"
   ]
  },
  {
   "cell_type": "code",
   "execution_count": 20,
   "metadata": {},
   "outputs": [],
   "source": [
    "##Gabby test cell"
   ]
  },
  {
   "cell_type": "code",
   "execution_count": 21,
   "metadata": {},
   "outputs": [],
   "source": [
    "##Ambro Test cell"
   ]
  },
  {
   "cell_type": "code",
   "execution_count": 22,
   "metadata": {},
   "outputs": [],
   "source": [
    "##Uma test cell"
   ]
  },
  {
   "cell_type": "code",
   "execution_count": null,
   "metadata": {},
   "outputs": [],
   "source": [
    "##Chad test cell"
   ]
  }
 ],
 "metadata": {
  "kernelspec": {
   "display_name": "base",
   "language": "python",
   "name": "python3"
  },
  "language_info": {
   "codemirror_mode": {
    "name": "ipython",
    "version": 3
   },
   "file_extension": ".py",
   "mimetype": "text/x-python",
   "name": "python",
   "nbconvert_exporter": "python",
   "pygments_lexer": "ipython3",
   "version": "3.11.4"
  }
 },
 "nbformat": 4,
 "nbformat_minor": 2
}
